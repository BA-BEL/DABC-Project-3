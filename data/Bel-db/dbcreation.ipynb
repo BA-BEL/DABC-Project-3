{
 "cells": [
  {
   "attachments": {},
   "cell_type": "markdown",
   "metadata": {},
   "source": [
    "## Outline of this code\n",
    "\n",
    "The function of this code is to create a database suited for the purposes of this project from the data [provided by Wyatt Walsh on kaggle](https://www.kaggle.com/datasets/wyattowalsh/basketball) "
   ]
  },
  {
   "cell_type": "code",
   "execution_count": 1,
   "metadata": {},
   "outputs": [],
   "source": [
    "###     Dependencies\n",
    "\n"
   ]
  },
  {
   "attachments": {},
   "cell_type": "markdown",
   "metadata": {},
   "source": [
    "## Reflect original NBA database (did not work)"
   ]
  },
  {
   "cell_type": "code",
   "execution_count": null,
   "metadata": {},
   "outputs": [],
   "source": [
    "#   Dependencies: SQLAlchemy\n",
    "import sqlalchemy\n",
    "from sqlalchemy.ext.automap import automap_base\n",
    "from sqlalchemy.orm import Session\n",
    "from sqlalchemy import create_engine, func, inspect"
   ]
  },
  {
   "cell_type": "code",
   "execution_count": 2,
   "metadata": {},
   "outputs": [],
   "source": [
    "#   Create engine to nba.sqlite\n",
    "engine = create_engine(\"sqlite:///../nba.sqlite\")\n",
    "\n",
    "#   Reflect existing database into a new model\n",
    "Base = automap_base()\n",
    "\n",
    "#   Reflect the tables\n",
    "Base.prepare(autoload_with = engine)"
   ]
  },
  {
   "cell_type": "code",
   "execution_count": 3,
   "metadata": {},
   "outputs": [
    {
     "data": {
      "text/plain": [
       "[]"
      ]
     },
     "execution_count": 3,
     "metadata": {},
     "output_type": "execute_result"
    }
   ],
   "source": [
    "# View all the classes automap found\n",
    "Base.classes.keys()"
   ]
  },
  {
   "attachments": {},
   "cell_type": "markdown",
   "metadata": {},
   "source": [
    "This is an unexpected error –– [this stack overflow forum](https://stackoverflow.com/questions/42946174/sqlalchemy-automap-not-generating-base-classes-table-name) discusses a potential issue with `automap_base()` not working with sqlite tables without primary keys. The Kaggle dataset also provides a csv, so I will manually set up a db instead."
   ]
  },
  {
   "attachments": {},
   "cell_type": "markdown",
   "metadata": {},
   "source": [
    "# Database preparation"
   ]
  },
  {
   "attachments": {},
   "cell_type": "markdown",
   "metadata": {},
   "source": [
    "## Database Modelling"
   ]
  },
  {
   "attachments": {},
   "cell_type": "markdown",
   "metadata": {},
   "source": [
    "![alt](QuickDBD-export.png)"
   ]
  },
  {
   "attachments": {},
   "cell_type": "markdown",
   "metadata": {},
   "source": [
    "The above is the ERD I sketched based on the CSV files I was provided.\n",
    "\n",
    "- kept variables of interest"
   ]
  },
  {
   "attachments": {},
   "cell_type": "markdown",
   "metadata": {},
   "source": [
    "## CSV Table Preparation"
   ]
  },
  {
   "cell_type": "code",
   "execution_count": 3,
   "metadata": {},
   "outputs": [],
   "source": [
    "#   Dependencies\n",
    "import pandas as pd"
   ]
  },
  {
   "cell_type": "code",
   "execution_count": 4,
   "metadata": {},
   "outputs": [],
   "source": [
    "#   Read in CSVs\n",
    "player_df = pd.read_csv(\"./../csv/player.csv\")\n",
    "common_player_info_df = pd.read_csv(\"./../csv/common_player_info.csv\")\n",
    "team_details_df = pd.read_csv(\"./../csv/team_details.csv\")\n",
    "team_history_df = pd.read_csv(\"./../csv/team_history.csv\")\n",
    "team_df = pd.read_csv(\"./../csv/team.csv\")\n",
    "game_info_df = pd.read_csv(\"./../csv/game_info.csv\")\n",
    "game_df = pd.read_csv(\"./../csv/game.csv\")"
   ]
  },
  {
   "cell_type": "code",
   "execution_count": 17,
   "metadata": {},
   "outputs": [],
   "source": [
    "#   Select only columns of interest:\n",
    "player_df = player_df[[\"id\", \"full_name\", \"is_active\"]]\n",
    "common_player_info_df = common_player_info_df[[\"person_id\",\"display_last_comma_first\", \"country\", \"team_id\", \"from_year\", \"to_year\", \"draft_year\"]]\n",
    "team_details_df = team_details_df[[\"team_id\", \"arena\"]]\n",
    "team_history_df = team_history_df[[\"team_id\", \"city\", \"year_founded\", \"year_active_till\"]]\n",
    "team_df = team_df[[\"id\", \"full_name\", \"abbreviation\", \"nickname\", \"city\", \"state\", \"year_founded\"]]\n",
    "game_info_df[[\"game_id\", \"game_date\", \"attendance\"]]\n",
    "game_df = game_df[[\"season_id\", \"game_id\", \"game_date\", \"team_id_home\", \"team_id_away\", \"matchup_home\", \"wl_home\", \"wl_away\", \"fgm_home\", \"fga_home\", \"fg_pct_home\",\n",
    "                     \"ftm_home\", \"fta_home\", \"ft_pct_home\", \"pts_home\", \"fgm_away\", \"fga_away\", \"fg_pct_away\", \"ftm_away\", \"fta_away\", \"ft_pct_away\", \"pts_away\"]]"
   ]
  },
  {
   "cell_type": "code",
   "execution_count": 19,
   "metadata": {},
   "outputs": [],
   "source": [
    "#   Export data frames to csv directory\n",
    "player_df.to_csv(\"csv/player.csv\")\n",
    "common_player_info_df.to_csv(\"csv/common_player_info.csv\")\n",
    "team_details_df.to_csv(\"csv/team_details.csv\")\n",
    "team_history_df.to_csv(\"csv/team_history.csv\")\n",
    "team_df.to_csv(\"csv/team.csv\")\n",
    "game_info_df.to_csv(\"csv/game_info.csv\")\n",
    "game_df.to_csv(\"csv/game.csv\")\n"
   ]
  },
  {
   "attachments": {},
   "cell_type": "markdown",
   "metadata": {},
   "source": [
    "CSV files for new database has been created, new db creation will be in the next section"
   ]
  },
  {
   "attachments": {},
   "cell_type": "markdown",
   "metadata": {},
   "source": [
    "## Database Creation"
   ]
  },
  {
   "cell_type": "code",
   "execution_count": 21,
   "metadata": {},
   "outputs": [],
   "source": [
    "#   Dependencies\n",
    "import pandas as pd\n",
    "\n",
    "# SQLAlchemy\n",
    "import sqlalchemy\n",
    "from sqlalchemy.ext.automap import automap_base\n",
    "from sqlalchemy.orm import Session\n",
    "from sqlalchemy import create_engine, func, inspect"
   ]
  },
  {
   "cell_type": "code",
   "execution_count": 22,
   "metadata": {},
   "outputs": [],
   "source": [
    "#   Read in CSVs\n",
    "player_df = pd.read_csv(\"csv/player.csv\")\n",
    "common_player_info_df = pd.read_csv(\"csv/common_player_info.csv\")\n",
    "team_details_df = pd.read_csv(\"csv/team_details.csv\")\n",
    "team_history_df = pd.read_csv(\"csv/team_history.csv\")\n",
    "team_df = pd.read_csv(\"csv/team.csv\")\n",
    "game_info_df = pd.read_csv(\"csv/game_info.csv\")\n",
    "game_df = pd.read_csv(\"csv/game.csv\")"
   ]
  },
  {
   "cell_type": "code",
   "execution_count": null,
   "metadata": {},
   "outputs": [],
   "source": []
  }
 ],
 "metadata": {
  "kernelspec": {
   "display_name": "PythonData",
   "language": "python",
   "name": "python3"
  },
  "language_info": {
   "codemirror_mode": {
    "name": "ipython",
    "version": 3
   },
   "file_extension": ".py",
   "mimetype": "text/x-python",
   "name": "python",
   "nbconvert_exporter": "python",
   "pygments_lexer": "ipython3",
   "version": "3.7.7"
  },
  "orig_nbformat": 4
 },
 "nbformat": 4,
 "nbformat_minor": 2
}
