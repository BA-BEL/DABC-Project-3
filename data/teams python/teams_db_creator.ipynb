{
 "cells": [
  {
   "cell_type": "code",
   "execution_count": 28,
   "id": "b8d7aee3",
   "metadata": {},
   "outputs": [],
   "source": [
    "import pandas as pd\n",
    "from sqlalchemy import create_engine, Column, Integer, String, Float, MetaData, Table, inspect\n",
    "from sqlalchemy.ext.declarative import declarative_base\n",
    "from sqlalchemy.orm import sessionmaker\n",
    "from sqlalchemy.ext.automap import automap_base\n",
    "from sqlalchemy import create_engine, func, inspect"
   ]
  },
  {
   "cell_type": "code",
   "execution_count": 29,
   "id": "4be79eed",
   "metadata": {},
   "outputs": [],
   "source": [
    "Base = declarative_base()\n",
    "engine = create_engine('sqlite:///../teams.sqlite')\n",
    "metadata = MetaData(bind=engine)\n",
    "Base.metadata.create_all(engine)"
   ]
  },
  {
   "cell_type": "code",
   "execution_count": 3,
   "id": "9e979abb",
   "metadata": {},
   "outputs": [],
   "source": [
    "table = Table('teams', metadata,\n",
    "              Column('id', Integer, primary_key=True),\n",
    "              Column('team_id', Integer),\n",
    "              Column('season_year', String),\n",
    "              Column('team_name', String),\n",
    "              Column('team_conference', String),\n",
    "              Column('team_division', String),\n",
    "              Column('wins', Integer),\n",
    "              Column('losses', Integer),\n",
    "              Column('conf_rank', Integer),\n",
    "              Column('established', Integer),\n",
    "              Column('lat', Float),\n",
    "              Column('lon', Float),\n",
    "              Column('next_homegame', Float),\n",
    "              Column('avg_price_next_homegame', Integer)\n",
    "             )\n",
    "    \n",
    "Session = sessionmaker(bind=engine)\n",
    "session = Session()"
   ]
  },
  {
   "cell_type": "code",
   "execution_count": 30,
   "id": "e4a1c1a8",
   "metadata": {},
   "outputs": [],
   "source": [
    "Base = automap_base()\n",
    "Base.prepare(autoload_with=engine)\n",
    "metadata = MetaData(bind=engine)"
   ]
  },
  {
   "cell_type": "code",
   "execution_count": 31,
   "id": "8fa01fc1",
   "metadata": {},
   "outputs": [
    {
     "data": {
      "text/plain": [
       "['teams']"
      ]
     },
     "execution_count": 31,
     "metadata": {},
     "output_type": "execute_result"
    }
   ],
   "source": [
    "inspector = inspect(engine)\n",
    "inspector.get_table_names()\n"
   ]
  },
  {
   "cell_type": "code",
   "execution_count": 32,
   "id": "db7bde7a",
   "metadata": {},
   "outputs": [],
   "source": [
    "Base = automap_base()\n",
    "Base.prepare(engine, reflect = True)"
   ]
  },
  {
   "cell_type": "code",
   "execution_count": 33,
   "id": "1290570a",
   "metadata": {},
   "outputs": [
    {
     "data": {
      "text/plain": [
       "['teams']"
      ]
     },
     "execution_count": 33,
     "metadata": {},
     "output_type": "execute_result"
    }
   ],
   "source": [
    "Base.classes.keys()"
   ]
  },
  {
   "cell_type": "code",
   "execution_count": 34,
   "id": "c6d05b23",
   "metadata": {},
   "outputs": [],
   "source": [
    "from sqlalchemy.orm import sessionmaker\n",
    "Session = sessionmaker(bind=engine)"
   ]
  },
  {
   "cell_type": "code",
   "execution_count": 9,
   "id": "d2ec4697",
   "metadata": {},
   "outputs": [],
   "source": [
    "df = pd.read_csv('merge_df.csv')"
   ]
  },
  {
   "cell_type": "code",
   "execution_count": 12,
   "id": "373e6e1b",
   "metadata": {},
   "outputs": [],
   "source": [
    "df.to_sql('teams', con=engine, if_exists='replace', index=False)"
   ]
  },
  {
   "cell_type": "code",
   "execution_count": 35,
   "id": "9f382eb9",
   "metadata": {},
   "outputs": [],
   "source": [
    "engine = create_engine('sqlite:///../teams.sqlite')\n"
   ]
  },
  {
   "cell_type": "code",
   "execution_count": 36,
   "id": "007b8033",
   "metadata": {},
   "outputs": [
    {
     "data": {
      "text/plain": [
       "['teams']"
      ]
     },
     "execution_count": 36,
     "metadata": {},
     "output_type": "execute_result"
    }
   ],
   "source": [
    "Base.classes.keys()"
   ]
  },
  {
   "cell_type": "code",
   "execution_count": 37,
   "id": "4425f1c1",
   "metadata": {},
   "outputs": [
    {
     "name": "stdout",
     "output_type": "stream",
     "text": [
      "Unnamed: 0 BIGINT\n",
      "team_id BIGINT\n",
      "season_year TEXT\n",
      "team_name TEXT\n",
      "team_conference TEXT\n",
      "team_division TEXT\n",
      "wins BIGINT\n",
      "losses BIGINT\n",
      "conf_rank BIGINT\n",
      "established BIGINT\n",
      "lat FLOAT\n",
      "lon FLOAT\n",
      "next_homegame TEXT\n",
      "avg_price_next_homegame BIGINT\n"
     ]
    }
   ],
   "source": [
    "columns = inspector.get_columns('teams')\n",
    "for column in columns:\n",
    "    print(column[\"name\"], column[\"type\"])\n"
   ]
  },
  {
   "cell_type": "code",
   "execution_count": 38,
   "id": "14c30d8e",
   "metadata": {},
   "outputs": [],
   "source": [
    "Teams = Base.classes.teams"
   ]
  },
  {
   "cell_type": "code",
   "execution_count": 41,
   "id": "578d97fe",
   "metadata": {},
   "outputs": [
    {
     "data": {
      "text/plain": [
       "[('Atlanta Hawks',),\n",
       " ('Miami Heat',),\n",
       " ('Orlando Magic',),\n",
       " ('Washington Wizards',),\n",
       " ('Charlotte Hornets',)]"
      ]
     },
     "execution_count": 41,
     "metadata": {},
     "output_type": "execute_result"
    }
   ],
   "source": [
    "    session.query(Teams.team_name).filter(Teams.team_division==\"Southeast\").all()"
   ]
  },
  {
   "cell_type": "code",
   "execution_count": null,
   "id": "a06cd586",
   "metadata": {},
   "outputs": [],
   "source": []
  }
 ],
 "metadata": {
  "kernelspec": {
   "display_name": "Python 3 (ipykernel)",
   "language": "python",
   "name": "python3"
  },
  "language_info": {
   "codemirror_mode": {
    "name": "ipython",
    "version": 3
   },
   "file_extension": ".py",
   "mimetype": "text/x-python",
   "name": "python",
   "nbconvert_exporter": "python",
   "pygments_lexer": "ipython3",
   "version": "3.7.7"
  }
 },
 "nbformat": 4,
 "nbformat_minor": 5
}
