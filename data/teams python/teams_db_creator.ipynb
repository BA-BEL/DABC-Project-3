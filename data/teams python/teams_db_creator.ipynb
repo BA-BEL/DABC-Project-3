{
 "cells": [
  {
   "cell_type": "code",
   "execution_count": 20,
   "id": "bd286eca",
   "metadata": {},
   "outputs": [],
   "source": [
    "import pandas as pd\n",
    "from sqlalchemy import create_engine, Column, Integer, String, Float, MetaData, Table, inspect\n",
    "from sqlalchemy.ext.declarative import declarative_base\n",
    "from sqlalchemy.orm import sessionmaker\n",
    "from sqlalchemy.ext.automap import automap_base\n",
    "from sqlalchemy import create_engine, func, inspect"
   ]
  },
  {
   "cell_type": "code",
   "execution_count": 21,
   "id": "c662fad0",
   "metadata": {},
   "outputs": [],
   "source": [
    "Base = declarative_base()\n",
    "engine = create_engine('sqlite:///../teams.sqlite')\n",
    "metadata = MetaData(bind=engine)\n",
    "Base.metadata.create_all(engine)"
   ]
  },
  {
   "cell_type": "code",
   "execution_count": 3,
   "id": "36830f74",
   "metadata": {},
   "outputs": [],
   "source": [
    "table = Table('teams', metadata,\n",
    "              Column('id', Integer, primary_key=True),\n",
    "              Column('team_id', Integer),\n",
    "              Column('season_year', String),\n",
    "              Column('team_name', String),\n",
    "              Column('team_conference', String),\n",
    "              Column('team_division', String),\n",
    "              Column('wins', Integer),\n",
    "              Column('losses', Integer),\n",
    "              Column('conf_rank', Integer),\n",
    "              Column('established', Integer),\n",
    "              Column('lat', Float),\n",
    "              Column('lon', Float),\n",
    "              Column('next_homegame', Float),\n",
    "              Column('avg_price_next_homegame', Integer)\n",
    "             )\n",
    "    \n",
    "Session = sessionmaker(bind=engine)\n",
    "session = Session()"
   ]
  },
  {
   "cell_type": "code",
   "execution_count": 22,
   "id": "a269d6f5",
   "metadata": {},
   "outputs": [],
   "source": [
    "Base = automap_base()\n",
    "Base.prepare(autoload_with=engine)\n",
    "metadata = MetaData(bind=engine)"
   ]
  },
  {
   "cell_type": "code",
   "execution_count": 23,
   "id": "b6f2963a",
   "metadata": {},
   "outputs": [
    {
     "data": {
      "text/plain": [
       "['teams']"
      ]
     },
     "execution_count": 23,
     "metadata": {},
     "output_type": "execute_result"
    }
   ],
   "source": [
    "inspector = inspect(engine)\n",
    "inspector.get_table_names()\n"
   ]
  },
  {
   "cell_type": "code",
   "execution_count": 24,
   "id": "b6a14e2a",
   "metadata": {},
   "outputs": [],
   "source": [
    "Base = automap_base()\n",
    "Base.prepare(engine, reflect = True)"
   ]
  },
  {
   "cell_type": "code",
   "execution_count": 25,
   "id": "aded186d",
   "metadata": {},
   "outputs": [
    {
     "data": {
      "text/plain": [
       "['teams']"
      ]
     },
     "execution_count": 25,
     "metadata": {},
     "output_type": "execute_result"
    }
   ],
   "source": [
    "Base.classes.keys()"
   ]
  },
  {
   "cell_type": "code",
   "execution_count": 8,
   "id": "f01aaf18",
   "metadata": {},
   "outputs": [],
   "source": [
    "from sqlalchemy.orm import sessionmaker\n",
    "Session = sessionmaker(bind=engine)"
   ]
  },
  {
   "cell_type": "code",
   "execution_count": 9,
   "id": "ec09b2df",
   "metadata": {},
   "outputs": [],
   "source": [
    "df = pd.read_csv('merge_df.csv')"
   ]
  },
  {
   "cell_type": "code",
   "execution_count": 10,
   "id": "634560bc",
   "metadata": {},
   "outputs": [],
   "source": [
    "df.to_sql('teams', con=engine, if_exists='replace', index=False)"
   ]
  },
  {
   "cell_type": "code",
   "execution_count": 26,
   "id": "e0d4de55",
   "metadata": {},
   "outputs": [],
   "source": [
    "engine = create_engine('sqlite:///../teams.sqlite')"
   ]
  },
  {
   "cell_type": "code",
   "execution_count": 27,
   "id": "34294191",
   "metadata": {},
   "outputs": [
    {
     "data": {
      "text/plain": [
       "['teams']"
      ]
     },
     "execution_count": 27,
     "metadata": {},
     "output_type": "execute_result"
    }
   ],
   "source": [
    "Base.classes.keys()"
   ]
  },
  {
   "cell_type": "code",
   "execution_count": 28,
   "id": "716e19ab",
   "metadata": {},
   "outputs": [
    {
     "name": "stdout",
     "output_type": "stream",
     "text": [
      "Unnamed: 0 BIGINT\n",
      "team_id BIGINT\n",
      "season_year TEXT\n",
      "team_name TEXT\n",
      "team_conference TEXT\n",
      "team_division TEXT\n",
      "wins BIGINT\n",
      "losses BIGINT\n",
      "conf_rank BIGINT\n",
      "established BIGINT\n",
      "lat FLOAT\n",
      "lon FLOAT\n",
      "next_homegame TEXT\n",
      "avg_price_next_homegame BIGINT\n"
     ]
    }
   ],
   "source": [
    "columns = inspector.get_columns('teams')\n",
    "for column in columns:\n",
    "    print(column[\"name\"], column[\"type\"])\n"
   ]
  },
  {
   "cell_type": "code",
   "execution_count": 29,
   "id": "c14de7b0",
   "metadata": {},
   "outputs": [],
   "source": [
    "Teams = Base.classes.teams"
   ]
  },
  {
   "cell_type": "code",
   "execution_count": 30,
   "id": "f89b95e7",
   "metadata": {},
   "outputs": [
    {
     "data": {
      "text/plain": [
       "[('Atlanta Hawks',),\n",
       " ('Miami Heat',),\n",
       " ('Orlando Magic',),\n",
       " ('Washington Wizards',),\n",
       " ('Charlotte Hornets',)]"
      ]
     },
     "execution_count": 30,
     "metadata": {},
     "output_type": "execute_result"
    }
   ],
   "source": [
    "session.query(Teams.team_name).filter(Teams.team_division==\"Southeast\").all()"
   ]
  },
  {
   "cell_type": "code",
   "execution_count": 31,
   "id": "56a4dd8d",
   "metadata": {},
   "outputs": [],
   "source": [
    "session.close()"
   ]
  },
  {
   "cell_type": "code",
   "execution_count": null,
   "id": "0b660074",
   "metadata": {},
   "outputs": [],
   "source": []
  }
 ],
 "metadata": {
  "kernelspec": {
   "display_name": "Python 3 (ipykernel)",
   "language": "python",
   "name": "python3"
  },
  "language_info": {
   "codemirror_mode": {
    "name": "ipython",
    "version": 3
   },
   "file_extension": ".py",
   "mimetype": "text/x-python",
   "name": "python",
   "nbconvert_exporter": "python",
   "pygments_lexer": "ipython3",
   "version": "3.7.7"
  }
 },
 "nbformat": 4,
 "nbformat_minor": 5
}
